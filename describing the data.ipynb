{
 "cells": [
  {
   "cell_type": "markdown",
   "id": "de43894d-fb7f-44d9-afe6-9e7fb1a06846",
   "metadata": {},
   "source": [
    "## Describing the Data \n"
   ]
  },
  {
   "cell_type": "markdown",
   "id": "2918d1cc-32c9-4544-9a59-c6ad681d59b5",
   "metadata": {},
   "source": [
    "I am going to the use the Foursquare API to get the location of Los Angeles. After I get the location I'm going to search for hotels in a 10km radius of the location. Cleaning the data, and creating a map will be made with Follium to double check my work as a visual of the area. I will use the Rating system to determine the highest rating hotels in the area. Hopefully that will give me a clear answer for what hotel I should pick. "
   ]
  }
 ],
 "metadata": {
  "kernelspec": {
   "display_name": "Python 3",
   "language": "python",
   "name": "python3"
  },
  "language_info": {
   "codemirror_mode": {
    "name": "ipython",
    "version": 3
   },
   "file_extension": ".py",
   "mimetype": "text/x-python",
   "name": "python",
   "nbconvert_exporter": "python",
   "pygments_lexer": "ipython3",
   "version": "3.8.8"
  }
 },
 "nbformat": 4,
 "nbformat_minor": 5
}
