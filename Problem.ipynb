{
 "cells": [
  {
   "cell_type": "markdown",
   "id": "39bf956d-106e-431d-a2e6-83568418528b",
   "metadata": {},
   "source": [
    "# Problem\n",
    "\n"
   ]
  },
  {
   "cell_type": "markdown",
   "id": "d888ff0e-c80a-4c59-ba38-98dcda639efb",
   "metadata": {},
   "source": [
    "My company wants me to go to Los Angeles for a business meeting. I have free reign on what hotel I can stay at and I am looking for good quality hotels. I know how bad traffic can be so I want to stay within the downtown area. My main concern for this business trip is a luxery hotel and close to being downtown. "
   ]
  }
 ],
 "metadata": {
  "kernelspec": {
   "display_name": "Python 3",
   "language": "python",
   "name": "python3"
  },
  "language_info": {
   "codemirror_mode": {
    "name": "ipython",
    "version": 3
   },
   "file_extension": ".py",
   "mimetype": "text/x-python",
   "name": "python",
   "nbconvert_exporter": "python",
   "pygments_lexer": "ipython3",
   "version": "3.8.8"
  }
 },
 "nbformat": 4,
 "nbformat_minor": 5
}
